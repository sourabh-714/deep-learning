{
  "nbformat": 4,
  "nbformat_minor": 0,
  "metadata": {
    "colab": {
      "name": " BERT_SENT_EMB_SEARCH_Custom.ipynb",
      "provenance": []
    },
    "kernelspec": {
      "name": "python3",
      "display_name": "Python 3"
    },
    "accelerator": "GPU",
    "widgets": {
      "application/vnd.jupyter.widget-state+json": {
        "7e8015651a9348e2b18a1b8acda29b6e": {
          "model_module": "@jupyter-widgets/controls",
          "model_name": "HBoxModel",
          "state": {
            "_view_name": "HBoxView",
            "_dom_classes": [],
            "_model_name": "HBoxModel",
            "_view_module": "@jupyter-widgets/controls",
            "_model_module_version": "1.5.0",
            "_view_count": null,
            "_view_module_version": "1.5.0",
            "box_style": "",
            "layout": "IPY_MODEL_3245157c668c442aae87cad452a0669d",
            "_model_module": "@jupyter-widgets/controls",
            "children": [
              "IPY_MODEL_9573cd70ef684963bcf162e0672032a2",
              "IPY_MODEL_374672f4d205419d82af6a4ad13dd4dc"
            ]
          }
        },
        "3245157c668c442aae87cad452a0669d": {
          "model_module": "@jupyter-widgets/base",
          "model_name": "LayoutModel",
          "state": {
            "_view_name": "LayoutView",
            "grid_template_rows": null,
            "right": null,
            "justify_content": null,
            "_view_module": "@jupyter-widgets/base",
            "overflow": null,
            "_model_module_version": "1.2.0",
            "_view_count": null,
            "flex_flow": null,
            "width": null,
            "min_width": null,
            "border": null,
            "align_items": null,
            "bottom": null,
            "_model_module": "@jupyter-widgets/base",
            "top": null,
            "grid_column": null,
            "overflow_y": null,
            "overflow_x": null,
            "grid_auto_flow": null,
            "grid_area": null,
            "grid_template_columns": null,
            "flex": null,
            "_model_name": "LayoutModel",
            "justify_items": null,
            "grid_row": null,
            "max_height": null,
            "align_content": null,
            "visibility": null,
            "align_self": null,
            "height": null,
            "min_height": null,
            "padding": null,
            "grid_auto_rows": null,
            "grid_gap": null,
            "max_width": null,
            "order": null,
            "_view_module_version": "1.2.0",
            "grid_template_areas": null,
            "object_position": null,
            "object_fit": null,
            "grid_auto_columns": null,
            "margin": null,
            "display": null,
            "left": null
          }
        },
        "9573cd70ef684963bcf162e0672032a2": {
          "model_module": "@jupyter-widgets/controls",
          "model_name": "IntProgressModel",
          "state": {
            "_view_name": "ProgressView",
            "style": "IPY_MODEL_c6d47fbc40574f44a0a3906a9cccef32",
            "_dom_classes": [],
            "description": "Downloading: 100%",
            "_model_name": "IntProgressModel",
            "bar_style": "success",
            "max": 231508,
            "_view_module": "@jupyter-widgets/controls",
            "_model_module_version": "1.5.0",
            "value": 231508,
            "_view_count": null,
            "_view_module_version": "1.5.0",
            "orientation": "horizontal",
            "min": 0,
            "description_tooltip": null,
            "_model_module": "@jupyter-widgets/controls",
            "layout": "IPY_MODEL_d1e260a829cb411284c7115d87142963"
          }
        },
        "374672f4d205419d82af6a4ad13dd4dc": {
          "model_module": "@jupyter-widgets/controls",
          "model_name": "HTMLModel",
          "state": {
            "_view_name": "HTMLView",
            "style": "IPY_MODEL_42db6c9269c34263b7e914c6692e4015",
            "_dom_classes": [],
            "description": "",
            "_model_name": "HTMLModel",
            "placeholder": "​",
            "_view_module": "@jupyter-widgets/controls",
            "_model_module_version": "1.5.0",
            "value": " 232k/232k [00:00&lt;00:00, 897kB/s]",
            "_view_count": null,
            "_view_module_version": "1.5.0",
            "description_tooltip": null,
            "_model_module": "@jupyter-widgets/controls",
            "layout": "IPY_MODEL_165c14da29e94d56b524bffd02ee9ccc"
          }
        },
        "c6d47fbc40574f44a0a3906a9cccef32": {
          "model_module": "@jupyter-widgets/controls",
          "model_name": "ProgressStyleModel",
          "state": {
            "_view_name": "StyleView",
            "_model_name": "ProgressStyleModel",
            "description_width": "initial",
            "_view_module": "@jupyter-widgets/base",
            "_model_module_version": "1.5.0",
            "_view_count": null,
            "_view_module_version": "1.2.0",
            "bar_color": null,
            "_model_module": "@jupyter-widgets/controls"
          }
        },
        "d1e260a829cb411284c7115d87142963": {
          "model_module": "@jupyter-widgets/base",
          "model_name": "LayoutModel",
          "state": {
            "_view_name": "LayoutView",
            "grid_template_rows": null,
            "right": null,
            "justify_content": null,
            "_view_module": "@jupyter-widgets/base",
            "overflow": null,
            "_model_module_version": "1.2.0",
            "_view_count": null,
            "flex_flow": null,
            "width": null,
            "min_width": null,
            "border": null,
            "align_items": null,
            "bottom": null,
            "_model_module": "@jupyter-widgets/base",
            "top": null,
            "grid_column": null,
            "overflow_y": null,
            "overflow_x": null,
            "grid_auto_flow": null,
            "grid_area": null,
            "grid_template_columns": null,
            "flex": null,
            "_model_name": "LayoutModel",
            "justify_items": null,
            "grid_row": null,
            "max_height": null,
            "align_content": null,
            "visibility": null,
            "align_self": null,
            "height": null,
            "min_height": null,
            "padding": null,
            "grid_auto_rows": null,
            "grid_gap": null,
            "max_width": null,
            "order": null,
            "_view_module_version": "1.2.0",
            "grid_template_areas": null,
            "object_position": null,
            "object_fit": null,
            "grid_auto_columns": null,
            "margin": null,
            "display": null,
            "left": null
          }
        },
        "42db6c9269c34263b7e914c6692e4015": {
          "model_module": "@jupyter-widgets/controls",
          "model_name": "DescriptionStyleModel",
          "state": {
            "_view_name": "StyleView",
            "_model_name": "DescriptionStyleModel",
            "description_width": "",
            "_view_module": "@jupyter-widgets/base",
            "_model_module_version": "1.5.0",
            "_view_count": null,
            "_view_module_version": "1.2.0",
            "_model_module": "@jupyter-widgets/controls"
          }
        },
        "165c14da29e94d56b524bffd02ee9ccc": {
          "model_module": "@jupyter-widgets/base",
          "model_name": "LayoutModel",
          "state": {
            "_view_name": "LayoutView",
            "grid_template_rows": null,
            "right": null,
            "justify_content": null,
            "_view_module": "@jupyter-widgets/base",
            "overflow": null,
            "_model_module_version": "1.2.0",
            "_view_count": null,
            "flex_flow": null,
            "width": null,
            "min_width": null,
            "border": null,
            "align_items": null,
            "bottom": null,
            "_model_module": "@jupyter-widgets/base",
            "top": null,
            "grid_column": null,
            "overflow_y": null,
            "overflow_x": null,
            "grid_auto_flow": null,
            "grid_area": null,
            "grid_template_columns": null,
            "flex": null,
            "_model_name": "LayoutModel",
            "justify_items": null,
            "grid_row": null,
            "max_height": null,
            "align_content": null,
            "visibility": null,
            "align_self": null,
            "height": null,
            "min_height": null,
            "padding": null,
            "grid_auto_rows": null,
            "grid_gap": null,
            "max_width": null,
            "order": null,
            "_view_module_version": "1.2.0",
            "grid_template_areas": null,
            "object_position": null,
            "object_fit": null,
            "grid_auto_columns": null,
            "margin": null,
            "display": null,
            "left": null
          }
        }
      }
    }
  },
  "cells": [
    {
      "cell_type": "code",
      "metadata": {
        "id": "icQPQWArcgaU",
        "colab": {
          "base_uri": "https://localhost:8080/",
          "height": 373
        },
        "outputId": "0a058181-d29b-4432-efd7-dd49ad81d562"
      },
      "source": [
        "! pip install bert-serving-server bert-serving-client\n",
        "! pip install tensorflow-gpu==1.14.0-rc0"
      ],
      "execution_count": null,
      "outputs": [
        {
          "output_type": "stream",
          "text": [
            "Collecting bert-serving-server\n",
            "\u001b[?25l  Downloading https://files.pythonhosted.org/packages/b0/bd/cab677bbd0c5fb08b72e468371d2bca6ed9507785739b4656b0b5470d90b/bert_serving_server-1.10.0-py3-none-any.whl (61kB)\n",
            "\r\u001b[K     |█████▎                          | 10kB 14.3MB/s eta 0:00:01\r\u001b[K     |██████████▋                     | 20kB 2.6MB/s eta 0:00:01\r\u001b[K     |████████████████                | 30kB 3.8MB/s eta 0:00:01\r\u001b[K     |█████████████████████▎          | 40kB 2.7MB/s eta 0:00:01\r\u001b[K     |██████████████████████████▋     | 51kB 3.4MB/s eta 0:00:01\r\u001b[K     |███████████████████████████████▉| 61kB 4.0MB/s eta 0:00:01\r\u001b[K     |████████████████████████████████| 71kB 3.0MB/s \n",
            "\u001b[?25hCollecting bert-serving-client\n",
            "  Downloading https://files.pythonhosted.org/packages/1f/09/aae1405378a848b2e87769ad89a43d6d71978c4e15534ca48e82e723a72f/bert_serving_client-1.10.0-py2.py3-none-any.whl\n",
            "Requirement already satisfied: termcolor>=1.1 in /usr/local/lib/python3.6/dist-packages (from bert-serving-server) (1.1.0)\n",
            "Requirement already satisfied: numpy in /usr/local/lib/python3.6/dist-packages (from bert-serving-server) (1.18.3)\n",
            "Collecting GPUtil>=1.3.0\n",
            "  Downloading https://files.pythonhosted.org/packages/ed/0e/5c61eedde9f6c87713e89d794f01e378cfd9565847d4576fa627d758c554/GPUtil-1.4.0.tar.gz\n",
            "Requirement already satisfied: pyzmq>=17.1.0 in /usr/local/lib/python3.6/dist-packages (from bert-serving-server) (19.0.0)\n",
            "Requirement already satisfied: six in /usr/local/lib/python3.6/dist-packages (from bert-serving-server) (1.12.0)\n",
            "Building wheels for collected packages: GPUtil\n",
            "  Building wheel for GPUtil (setup.py) ... \u001b[?25l\u001b[?25hdone\n",
            "  Created wheel for GPUtil: filename=GPUtil-1.4.0-cp36-none-any.whl size=7413 sha256=0a92d72761652109c17d8211dbdbcbafb82962791ffc009206e36ee3ce4bbead\n",
            "  Stored in directory: /root/.cache/pip/wheels/3d/77/07/80562de4bb0786e5ea186911a2c831fdd0018bda69beab71fd\n",
            "Successfully built GPUtil\n",
            "Installing collected packages: GPUtil, bert-serving-server, bert-serving-client\n",
            "Successfully installed GPUtil-1.4.0 bert-serving-client-1.10.0 bert-serving-server-1.10.0\n",
            "\u001b[31mERROR: Could not find a version that satisfies the requirement tensorflow-gpu==1.14.0-rc0 (from versions: 0.12.1, 1.0.0, 1.0.1, 1.1.0, 1.2.0, 1.2.1, 1.3.0, 1.4.0, 1.4.1, 1.5.0, 1.5.1, 1.6.0, 1.7.0, 1.7.1, 1.8.0, 1.9.0, 1.10.0, 1.10.1, 1.11.0, 1.12.0, 1.12.2, 1.12.3, 1.13.1, 1.13.2, 1.14.0, 1.15.0rc0, 1.15.0rc1, 1.15.0rc2, 1.15.0rc3, 1.15.0, 1.15.2, 2.0.0a0, 2.0.0b0, 2.0.0b1, 2.0.0rc0, 2.0.0rc1, 2.0.0rc2, 2.0.0, 2.0.1, 2.1.0rc0, 2.1.0rc1, 2.1.0rc2, 2.1.0, 2.2.0rc0, 2.2.0rc1, 2.2.0rc2, 2.2.0rc3, 2.2.0rc4)\u001b[0m\n",
            "\u001b[31mERROR: No matching distribution found for tensorflow-gpu==1.14.0-rc0\u001b[0m\n"
          ],
          "name": "stdout"
        }
      ]
    },
    {
      "cell_type": "code",
      "metadata": {
        "id": "cnSxPbkxhpsv",
        "colab": {
          "base_uri": "https://localhost:8080/",
          "height": 168
        },
        "outputId": "178489de-dd09-4e1f-d46a-9265db7d51e7"
      },
      "source": [
        "! pip install wget"
      ],
      "execution_count": null,
      "outputs": [
        {
          "output_type": "stream",
          "text": [
            "Collecting wget\n",
            "  Downloading https://files.pythonhosted.org/packages/47/6a/62e288da7bcda82b935ff0c6cfe542970f04e29c756b0e147251b2fb251f/wget-3.2.zip\n",
            "Building wheels for collected packages: wget\n",
            "  Building wheel for wget (setup.py) ... \u001b[?25l\u001b[?25hdone\n",
            "  Created wheel for wget: filename=wget-3.2-cp36-none-any.whl size=9682 sha256=2066d4a49e54e2980d3eb8b6ca67a20967863a374264f53f540495fd2411319c\n",
            "  Stored in directory: /root/.cache/pip/wheels/40/15/30/7d8f7cea2902b4db79e3fea550d7d7b85ecb27ef992b618f3f\n",
            "Successfully built wget\n",
            "Installing collected packages: wget\n",
            "Successfully installed wget-3.2\n"
          ],
          "name": "stdout"
        }
      ]
    },
    {
      "cell_type": "code",
      "metadata": {
        "id": "mi5R5eAAsLwJ",
        "colab": {
          "base_uri": "https://localhost:8080/",
          "height": 860
        },
        "outputId": "26f8b9ea-e695-49cb-a057-441b9bec417c"
      },
      "source": [
        "# Install the library using pip\n",
        "!pip install sentence-transformers"
      ],
      "execution_count": null,
      "outputs": [
        {
          "output_type": "stream",
          "text": [
            "Collecting sentence-transformers\n",
            "\u001b[?25l  Downloading https://files.pythonhosted.org/packages/b9/46/b7d6c37d92d1bd65319220beabe4df845434930e3f30e42d3cfaecb74dc4/sentence-transformers-0.2.6.1.tar.gz (55kB)\n",
            "\u001b[K     |████████████████████████████████| 61kB 2.8MB/s \n",
            "\u001b[?25hCollecting transformers>=2.8.0\n",
            "\u001b[?25l  Downloading https://files.pythonhosted.org/packages/a3/78/92cedda05552398352ed9784908b834ee32a0bd071a9b32de287327370b7/transformers-2.8.0-py3-none-any.whl (563kB)\n",
            "\u001b[K     |████████████████████████████████| 573kB 12.9MB/s \n",
            "\u001b[?25hRequirement already satisfied: tqdm in /usr/local/lib/python3.6/dist-packages (from sentence-transformers) (4.38.0)\n",
            "Requirement already satisfied: torch>=1.0.1 in /usr/local/lib/python3.6/dist-packages (from sentence-transformers) (1.5.0+cu101)\n",
            "Requirement already satisfied: numpy in /usr/local/lib/python3.6/dist-packages (from sentence-transformers) (1.18.3)\n",
            "Requirement already satisfied: scikit-learn in /usr/local/lib/python3.6/dist-packages (from sentence-transformers) (0.22.2.post1)\n",
            "Requirement already satisfied: scipy in /usr/local/lib/python3.6/dist-packages (from sentence-transformers) (1.4.1)\n",
            "Requirement already satisfied: nltk in /usr/local/lib/python3.6/dist-packages (from sentence-transformers) (3.2.5)\n",
            "Requirement already satisfied: requests in /usr/local/lib/python3.6/dist-packages (from transformers>=2.8.0->sentence-transformers) (2.23.0)\n",
            "Requirement already satisfied: filelock in /usr/local/lib/python3.6/dist-packages (from transformers>=2.8.0->sentence-transformers) (3.0.12)\n",
            "Collecting tokenizers==0.5.2\n",
            "\u001b[?25l  Downloading https://files.pythonhosted.org/packages/d1/3f/73c881ea4723e43c1e9acf317cf407fab3a278daab3a69c98dcac511c04f/tokenizers-0.5.2-cp36-cp36m-manylinux1_x86_64.whl (3.7MB)\n",
            "\u001b[K     |████████████████████████████████| 3.7MB 42.9MB/s \n",
            "\u001b[?25hRequirement already satisfied: regex!=2019.12.17 in /usr/local/lib/python3.6/dist-packages (from transformers>=2.8.0->sentence-transformers) (2019.12.20)\n",
            "Requirement already satisfied: boto3 in /usr/local/lib/python3.6/dist-packages (from transformers>=2.8.0->sentence-transformers) (1.12.47)\n",
            "Collecting sacremoses\n",
            "\u001b[?25l  Downloading https://files.pythonhosted.org/packages/7d/34/09d19aff26edcc8eb2a01bed8e98f13a1537005d31e95233fd48216eed10/sacremoses-0.0.43.tar.gz (883kB)\n",
            "\u001b[K     |████████████████████████████████| 890kB 41.3MB/s \n",
            "\u001b[?25hCollecting sentencepiece\n",
            "\u001b[?25l  Downloading https://files.pythonhosted.org/packages/98/2c/8df20f3ac6c22ac224fff307ebc102818206c53fc454ecd37d8ac2060df5/sentencepiece-0.1.86-cp36-cp36m-manylinux1_x86_64.whl (1.0MB)\n",
            "\u001b[K     |████████████████████████████████| 1.0MB 37.9MB/s \n",
            "\u001b[?25hRequirement already satisfied: dataclasses; python_version < \"3.7\" in /usr/local/lib/python3.6/dist-packages (from transformers>=2.8.0->sentence-transformers) (0.7)\n",
            "Requirement already satisfied: future in /usr/local/lib/python3.6/dist-packages (from torch>=1.0.1->sentence-transformers) (0.16.0)\n",
            "Requirement already satisfied: joblib>=0.11 in /usr/local/lib/python3.6/dist-packages (from scikit-learn->sentence-transformers) (0.14.1)\n",
            "Requirement already satisfied: six in /usr/local/lib/python3.6/dist-packages (from nltk->sentence-transformers) (1.12.0)\n",
            "Requirement already satisfied: idna<3,>=2.5 in /usr/local/lib/python3.6/dist-packages (from requests->transformers>=2.8.0->sentence-transformers) (2.9)\n",
            "Requirement already satisfied: urllib3!=1.25.0,!=1.25.1,<1.26,>=1.21.1 in /usr/local/lib/python3.6/dist-packages (from requests->transformers>=2.8.0->sentence-transformers) (1.24.3)\n",
            "Requirement already satisfied: chardet<4,>=3.0.2 in /usr/local/lib/python3.6/dist-packages (from requests->transformers>=2.8.0->sentence-transformers) (3.0.4)\n",
            "Requirement already satisfied: certifi>=2017.4.17 in /usr/local/lib/python3.6/dist-packages (from requests->transformers>=2.8.0->sentence-transformers) (2020.4.5.1)\n",
            "Requirement already satisfied: s3transfer<0.4.0,>=0.3.0 in /usr/local/lib/python3.6/dist-packages (from boto3->transformers>=2.8.0->sentence-transformers) (0.3.3)\n",
            "Requirement already satisfied: botocore<1.16.0,>=1.15.47 in /usr/local/lib/python3.6/dist-packages (from boto3->transformers>=2.8.0->sentence-transformers) (1.15.47)\n",
            "Requirement already satisfied: jmespath<1.0.0,>=0.7.1 in /usr/local/lib/python3.6/dist-packages (from boto3->transformers>=2.8.0->sentence-transformers) (0.9.5)\n",
            "Requirement already satisfied: click in /usr/local/lib/python3.6/dist-packages (from sacremoses->transformers>=2.8.0->sentence-transformers) (7.1.2)\n",
            "Requirement already satisfied: docutils<0.16,>=0.10 in /usr/local/lib/python3.6/dist-packages (from botocore<1.16.0,>=1.15.47->boto3->transformers>=2.8.0->sentence-transformers) (0.15.2)\n",
            "Requirement already satisfied: python-dateutil<3.0.0,>=2.1 in /usr/local/lib/python3.6/dist-packages (from botocore<1.16.0,>=1.15.47->boto3->transformers>=2.8.0->sentence-transformers) (2.8.1)\n",
            "Building wheels for collected packages: sentence-transformers, sacremoses\n",
            "  Building wheel for sentence-transformers (setup.py) ... \u001b[?25l\u001b[?25hdone\n",
            "  Created wheel for sentence-transformers: filename=sentence_transformers-0.2.6.1-cp36-none-any.whl size=74031 sha256=bba9830d8dffc01f5a11fa033224427fed0e6527a79e02eea33d0426502412e8\n",
            "  Stored in directory: /root/.cache/pip/wheels/d7/fa/17/2b081a8cd8b0a86753fb0e9826b3cc19f0207062c0b2da7008\n",
            "  Building wheel for sacremoses (setup.py) ... \u001b[?25l\u001b[?25hdone\n",
            "  Created wheel for sacremoses: filename=sacremoses-0.0.43-cp36-none-any.whl size=893260 sha256=16c45a4f51ddf3fee1cebed425b21c6b0197ea4bfb76c18bb9997e1e03d72666\n",
            "  Stored in directory: /root/.cache/pip/wheels/29/3c/fd/7ce5c3f0666dab31a50123635e6fb5e19ceb42ce38d4e58f45\n",
            "Successfully built sentence-transformers sacremoses\n",
            "Installing collected packages: tokenizers, sacremoses, sentencepiece, transformers, sentence-transformers\n",
            "Successfully installed sacremoses-0.0.43 sentence-transformers-0.2.6.1 sentencepiece-0.1.86 tokenizers-0.5.2 transformers-2.8.0\n"
          ],
          "name": "stdout"
        }
      ]
    },
    {
      "cell_type": "code",
      "metadata": {
        "id": "jnj1qZGSsTTi",
        "colab": {
          "base_uri": "https://localhost:8080/",
          "height": 34
        },
        "outputId": "3fc8f030-eea6-49a5-a920-0f6e1cc94aee"
      },
      "source": [
        "from sentence_transformers import SentenceTransformer\n",
        "\n",
        "# Load the BERT model. Various models trained on Natural Language Inference (NLI) https://github.com/UKPLab/sentence-transformers/blob/master/docs/pretrained-models/nli-models.md and \n",
        "# Semantic Textual Similarity are available https://github.com/UKPLab/sentence-transformers/blob/master/docs/pretrained-models/sts-models.md\n",
        "\n",
        "model = SentenceTransformer('bert-base-nli-mean-tokens')"
      ],
      "execution_count": null,
      "outputs": [
        {
          "output_type": "stream",
          "text": [
            "100%|██████████| 405M/405M [00:24<00:00, 16.4MB/s]\n"
          ],
          "name": "stderr"
        }
      ]
    },
    {
      "cell_type": "code",
      "metadata": {
        "id": "Bj6W7LJazag3",
        "colab": {
          "base_uri": "https://localhost:8080/",
          "height": 377
        },
        "outputId": "87dcf610-e2c2-4070-aa41-a439ba1aa50a"
      },
      "source": [
        "import pandas as pd\n",
        "\n",
        "# Load the dataset into a pandas dataframe.\n",
        "df = pd.read_csv(\"/title.csv\", delimiter='\\t', header=None, names=['title'] )\n",
        "df = df.replace(',','', regex=True)\n",
        "# Report the number of sentences.\n",
        "print('Number of training sentences: {:,}\\n'.format(df.shape[0]))\n",
        "\n",
        "# Display 10 random rows from the data.\n",
        "df.sample(10)"
      ],
      "execution_count": null,
      "outputs": [
        {
          "output_type": "stream",
          "text": [
            "Number of training sentences: 12\n",
            "\n"
          ],
          "name": "stdout"
        },
        {
          "output_type": "execute_result",
          "data": {
            "text/html": [
              "<div>\n",
              "<style scoped>\n",
              "    .dataframe tbody tr th:only-of-type {\n",
              "        vertical-align: middle;\n",
              "    }\n",
              "\n",
              "    .dataframe tbody tr th {\n",
              "        vertical-align: top;\n",
              "    }\n",
              "\n",
              "    .dataframe thead th {\n",
              "        text-align: right;\n",
              "    }\n",
              "</style>\n",
              "<table border=\"1\" class=\"dataframe\">\n",
              "  <thead>\n",
              "    <tr style=\"text-align: right;\">\n",
              "      <th></th>\n",
              "      <th>title</th>\n",
              "    </tr>\n",
              "  </thead>\n",
              "  <tbody>\n",
              "    <tr>\n",
              "      <th>1</th>\n",
              "      <td>Systematic review Does reduced MHC diversity d...</td>\n",
              "    </tr>\n",
              "    <tr>\n",
              "      <th>3</th>\n",
              "      <td>The Impact of Host-Based Early Warning on Dise...</td>\n",
              "    </tr>\n",
              "    <tr>\n",
              "      <th>10</th>\n",
              "      <td>When are pathogen genome sequences informative...</td>\n",
              "    </tr>\n",
              "    <tr>\n",
              "      <th>2</th>\n",
              "      <td>Comment 760 www</td>\n",
              "    </tr>\n",
              "    <tr>\n",
              "      <th>0</th>\n",
              "      <td>title</td>\n",
              "    </tr>\n",
              "    <tr>\n",
              "      <th>11</th>\n",
              "      <td>Does genetic diversity limit disease spread in...</td>\n",
              "    </tr>\n",
              "    <tr>\n",
              "      <th>7</th>\n",
              "      <td>Dengue Virus Glycosylation: What Do We Know?</td>\n",
              "    </tr>\n",
              "    <tr>\n",
              "      <th>4</th>\n",
              "      <td>Allergologia et immunopathologia Does atopy af...</td>\n",
              "    </tr>\n",
              "    <tr>\n",
              "      <th>5</th>\n",
              "      <td>Journal Pre-proof What Should Gastroenterologi...</td>\n",
              "    </tr>\n",
              "    <tr>\n",
              "      <th>8</th>\n",
              "      <td>viruses Can Bats Serve as Reservoirs for Arbov...</td>\n",
              "    </tr>\n",
              "  </tbody>\n",
              "</table>\n",
              "</div>"
            ],
            "text/plain": [
              "                                                title\n",
              "1   Systematic review Does reduced MHC diversity d...\n",
              "3   The Impact of Host-Based Early Warning on Dise...\n",
              "10  When are pathogen genome sequences informative...\n",
              "2                                     Comment 760 www\n",
              "0                                               title\n",
              "11  Does genetic diversity limit disease spread in...\n",
              "7        Dengue Virus Glycosylation: What Do We Know?\n",
              "4   Allergologia et immunopathologia Does atopy af...\n",
              "5   Journal Pre-proof What Should Gastroenterologi...\n",
              "8   viruses Can Bats Serve as Reservoirs for Arbov..."
            ]
          },
          "metadata": {
            "tags": []
          },
          "execution_count": 5
        }
      ]
    },
    {
      "cell_type": "code",
      "metadata": {
        "id": "J-0cduJbziwH",
        "colab": {
          "base_uri": "https://localhost:8080/",
          "height": 195
        },
        "outputId": "7c5cb8a8-dfa2-4ab5-a121-9d08f3bc02cb"
      },
      "source": [
        "df.sample(5)[['title']]"
      ],
      "execution_count": null,
      "outputs": [
        {
          "output_type": "execute_result",
          "data": {
            "text/html": [
              "<div>\n",
              "<style scoped>\n",
              "    .dataframe tbody tr th:only-of-type {\n",
              "        vertical-align: middle;\n",
              "    }\n",
              "\n",
              "    .dataframe tbody tr th {\n",
              "        vertical-align: top;\n",
              "    }\n",
              "\n",
              "    .dataframe thead th {\n",
              "        text-align: right;\n",
              "    }\n",
              "</style>\n",
              "<table border=\"1\" class=\"dataframe\">\n",
              "  <thead>\n",
              "    <tr style=\"text-align: right;\">\n",
              "      <th></th>\n",
              "      <th>title</th>\n",
              "    </tr>\n",
              "  </thead>\n",
              "  <tbody>\n",
              "    <tr>\n",
              "      <th>4</th>\n",
              "      <td>Allergologia et immunopathologia Does atopy af...</td>\n",
              "    </tr>\n",
              "    <tr>\n",
              "      <th>8</th>\n",
              "      <td>viruses Can Bats Serve as Reservoirs for Arbov...</td>\n",
              "    </tr>\n",
              "    <tr>\n",
              "      <th>5</th>\n",
              "      <td>Journal Pre-proof What Should Gastroenterologi...</td>\n",
              "    </tr>\n",
              "    <tr>\n",
              "      <th>0</th>\n",
              "      <td>title</td>\n",
              "    </tr>\n",
              "    <tr>\n",
              "      <th>9</th>\n",
              "      <td>What can we predict about viral evolution and ...</td>\n",
              "    </tr>\n",
              "  </tbody>\n",
              "</table>\n",
              "</div>"
            ],
            "text/plain": [
              "                                               title\n",
              "4  Allergologia et immunopathologia Does atopy af...\n",
              "8  viruses Can Bats Serve as Reservoirs for Arbov...\n",
              "5  Journal Pre-proof What Should Gastroenterologi...\n",
              "0                                              title\n",
              "9  What can we predict about viral evolution and ..."
            ]
          },
          "metadata": {
            "tags": []
          },
          "execution_count": 6
        }
      ]
    },
    {
      "cell_type": "code",
      "metadata": {
        "id": "PvoW7l6Tznr1"
      },
      "source": [
        "# Get the lists of sentences and their labels.\n",
        "sentences = df.title.values"
      ],
      "execution_count": null,
      "outputs": []
    },
    {
      "cell_type": "code",
      "metadata": {
        "id": "X-G24YDeztnI",
        "colab": {
          "base_uri": "https://localhost:8080/",
          "height": 82,
          "referenced_widgets": [
            "7e8015651a9348e2b18a1b8acda29b6e",
            "3245157c668c442aae87cad452a0669d",
            "9573cd70ef684963bcf162e0672032a2",
            "374672f4d205419d82af6a4ad13dd4dc",
            "c6d47fbc40574f44a0a3906a9cccef32",
            "d1e260a829cb411284c7115d87142963",
            "42db6c9269c34263b7e914c6692e4015",
            "165c14da29e94d56b524bffd02ee9ccc"
          ]
        },
        "outputId": "a9526e7f-c74b-4f26-8653-484b7cec669f"
      },
      "source": [
        "from transformers import BertTokenizer\n",
        "\n",
        "# Load the BERT tokenizer.\n",
        "print('Loading BERT tokenizer...')\n",
        "tokenizer = BertTokenizer.from_pretrained('bert-base-uncased', do_lower_case=True)"
      ],
      "execution_count": null,
      "outputs": [
        {
          "output_type": "stream",
          "text": [
            "Loading BERT tokenizer...\n"
          ],
          "name": "stdout"
        },
        {
          "output_type": "display_data",
          "data": {
            "application/vnd.jupyter.widget-view+json": {
              "model_id": "7e8015651a9348e2b18a1b8acda29b6e",
              "version_minor": 0,
              "version_major": 2
            },
            "text/plain": [
              "HBox(children=(IntProgress(value=0, description='Downloading', max=231508, style=ProgressStyle(description_wid…"
            ]
          },
          "metadata": {
            "tags": []
          }
        },
        {
          "output_type": "stream",
          "text": [
            "\n"
          ],
          "name": "stdout"
        }
      ]
    },
    {
      "cell_type": "code",
      "metadata": {
        "id": "n6ED6t4rzzyv",
        "colab": {
          "base_uri": "https://localhost:8080/",
          "height": 67
        },
        "outputId": "fef3010e-1397-46b0-d8fb-ca47f4d647dd"
      },
      "source": [
        "# Print the original sentence.\n",
        "print(' Original: ', sentences[0])\n",
        "\n",
        "# Print the sentence split into tokens.\n",
        "print('Tokenized: ', tokenizer.tokenize(sentences[0]))\n",
        "\n",
        "# Print the sentence mapped to token ids.\n",
        "print('Token IDs: ', tokenizer.convert_tokens_to_ids(tokenizer.tokenize(sentences[0])))"
      ],
      "execution_count": null,
      "outputs": [
        {
          "output_type": "stream",
          "text": [
            " Original:  title\n",
            "Tokenized:  ['title']\n",
            "Token IDs:  [2516]\n"
          ],
          "name": "stdout"
        }
      ]
    },
    {
      "cell_type": "code",
      "metadata": {
        "id": "yd1AHyHMse4X",
        "colab": {
          "base_uri": "https://localhost:8080/",
          "height": 1000
        },
        "outputId": "9bb33193-1a7c-4c50-c110-08c775bb5a1b"
      },
      "source": [
        "# A corpus is a list with documents split by sentences.\n",
        "\n",
        "# Each sentence is encoded as a 1-D vector with 78 columns\n",
        "sentence_embeddings = model.encode(sentences)\n",
        "\n",
        "print('Sample BERT embedding vector - length', len(sentence_embeddings[0]))\n",
        "\n",
        "print('Sample BERT embedding vector - note includes negative values', sentence_embeddings[0])"
      ],
      "execution_count": null,
      "outputs": [
        {
          "output_type": "stream",
          "text": [
            "Sample BERT embedding vector - length 768\n",
            "Sample BERT embedding vector - note includes negative values [ 1.15534998e-01 -3.01038980e-01  2.28389668e+00  8.43255103e-01\n",
            "  5.70622385e-01 -3.94894928e-02 -4.96040493e-01  6.58538997e-01\n",
            "  7.37187788e-02  2.53861636e-01 -9.87960041e-01  1.28782228e-01\n",
            "  3.27380657e-01  9.03856993e-01  9.40645516e-01 -2.32353345e-01\n",
            " -7.33541429e-01  1.71955690e-01  2.28647456e-01 -1.06962192e+00\n",
            " -2.43076921e-01  4.92174834e-01  2.93649048e-01 -7.91570961e-01\n",
            "  2.32278943e-01 -6.35310471e-01  1.73392519e-02 -2.23125887e+00\n",
            " -9.74390566e-01 -2.06972718e-01 -1.57009304e-01 -8.45554292e-01\n",
            "  3.28927726e-01  5.80681264e-01  4.10945326e-01  2.51199722e-01\n",
            " -7.88593471e-01  2.28312090e-01 -1.75099611e-01 -4.62637037e-01\n",
            "  1.63711393e+00  1.64804831e-01  1.01361144e+00 -2.05729473e-02\n",
            " -5.98165095e-01 -2.36951590e-01 -2.27621794e-01 -3.79147142e-01\n",
            "  1.27082080e-01 -1.01565087e+00 -7.50273883e-01 -5.68745196e-01\n",
            " -3.15870941e-02  3.78211260e-01 -6.33808374e-02  7.82484859e-02\n",
            "  4.35711503e-01 -4.01915878e-01  2.27206349e-01  6.68239176e-01\n",
            "  7.02695131e-01 -7.74695098e-01  4.59968716e-01  1.20077574e+00\n",
            "  6.95237517e-03  3.74969482e-01  8.45012188e-01 -3.51474434e-01\n",
            " -8.25457871e-01  5.98789394e-01  9.83592212e-01  5.62327690e-02\n",
            "  2.51652360e-01  7.76350498e-03 -1.32267141e+00  5.16019464e-02\n",
            "  4.15167093e-01  6.31828070e-01  7.56712139e-01  6.21005476e-01\n",
            "  7.61409283e-01  2.28250489e-01  1.20595396e+00  3.43273669e-01\n",
            " -4.69797701e-01  9.90808189e-01  2.80548304e-01  4.16916251e-01\n",
            " -1.56351662e+00 -1.35818407e-01  1.97121277e-01  1.89494900e-02\n",
            "  6.26836479e-01  1.25405014e-01  4.15408202e-02 -2.45703146e-01\n",
            "  5.24102867e-01 -3.21748972e-01 -6.21333234e-02 -8.73446941e-01\n",
            " -1.20356703e+00 -1.00404620e-01 -2.44432330e-01 -3.44997644e-01\n",
            " -3.70792747e-01  4.63404739e-03 -2.58801818e-01 -6.27258867e-02\n",
            "  2.81410694e-01  3.06287795e-01 -1.34229407e-01  2.65953332e-01\n",
            "  1.05692804e+00  3.37437361e-01  3.66419345e-01 -2.01901913e-01\n",
            " -1.13948286e+00  3.86377722e-01 -5.62951975e-02  1.03469646e+00\n",
            " -3.07058483e-01  8.66946220e-01 -7.63527870e-01 -6.69161603e-02\n",
            "  9.05846119e-01  1.75294895e-02  2.63458252e-01 -4.24464315e-01\n",
            " -9.75716054e-01 -3.52097780e-01 -4.58896637e-01  4.98779058e-01\n",
            "  1.30084381e-01  2.22471207e-02  2.09744886e-01  4.37555164e-01\n",
            "  2.49704003e-01 -2.11354747e-01  1.07331671e-01 -1.94777653e-01\n",
            " -1.40286732e+00  2.33877435e-01 -1.11395121e+00  4.22161102e-01\n",
            " -1.43323258e-01 -2.01228857e-01  3.55042189e-01  3.46484296e-02\n",
            " -1.42308459e-01  5.87042630e-01 -4.47353154e-01  6.89258397e-01\n",
            " -9.53098238e-02 -5.14927566e-01 -7.27349520e-01 -2.06979349e-01\n",
            "  3.95714492e-02  8.21886837e-01  1.11938596e-01 -2.17541769e-01\n",
            " -4.65172768e-01  7.09185779e-01  6.26207888e-01 -1.74116101e-02\n",
            "  5.72715998e-02 -5.09496145e-02  6.87326908e-01  8.83411691e-02\n",
            "  9.91362110e-02 -5.60907066e-01  3.76189142e-01 -1.18324482e+00\n",
            "  8.18360448e-02 -3.26691270e-01 -6.66365385e-01  7.10983694e-01\n",
            "  1.08218098e+00  1.16624510e+00  1.31539202e+00 -3.40382427e-01\n",
            "  4.99517709e-01  5.15106380e-01  7.64439285e-01 -1.35836303e+00\n",
            " -2.80150324e-01 -9.31313634e-02 -5.42469263e-01 -9.72981825e-02\n",
            "  7.42641926e-01  4.55049761e-02 -1.76929906e-01 -5.28390348e-01\n",
            " -1.73986718e-01 -1.06703937e+00 -8.31553340e-03 -4.25188132e-02\n",
            "  2.45469317e-01  1.72373056e-01  2.74969358e-02  3.40676397e-01\n",
            "  9.74268377e-01 -4.43791240e-01  4.31403250e-01 -3.50857347e-01\n",
            "  6.56631172e-01  1.03147757e+00 -5.29973567e-01  4.08843756e-01\n",
            "  8.26685905e-01 -6.53228819e-01 -4.47964936e-01  5.64843714e-01\n",
            "  9.56636012e-01 -7.41792321e-02  5.25098920e-01 -6.72685862e-01\n",
            "  1.40051508e+00 -9.17151630e-01 -1.17204916e+00 -2.06538569e-02\n",
            "  1.90884963e-01 -3.39301974e-01  4.92281795e-01  3.33396792e-01\n",
            " -1.37687123e+00  4.47932631e-01  2.99701124e-01 -7.14938939e-01\n",
            " -6.12152576e-01 -7.07412422e-01  6.26218379e-01 -4.96308059e-01\n",
            " -2.13160589e-01  1.00587499e+00  4.42584366e-01  5.33186138e-01\n",
            " -1.34835735e-01 -6.80770099e-01 -2.56749511e-01  2.79113978e-01\n",
            "  7.71601975e-01  7.09876776e-01  4.15296555e-01  3.27889889e-01\n",
            " -1.74859297e+00 -5.03538847e-01  8.59627903e-01  6.03116006e-02\n",
            " -4.23428267e-01  3.16206425e-01  1.30583733e-01 -1.42889440e+00\n",
            "  2.59939879e-02  9.47682336e-02 -3.64728451e-01 -3.29417139e-01\n",
            " -4.82778639e-01 -2.18069792e-01 -2.21211180e-01 -6.59775496e-01\n",
            " -2.03984201e-01  2.94352621e-01 -4.37358707e-01 -1.61521748e-01\n",
            "  3.37337404e-01 -1.86514139e-01 -6.99732825e-02  2.05072761e-01\n",
            "  9.10639092e-02  2.95477122e-01 -4.99430031e-01  1.29892111e-01\n",
            " -2.28915766e-01 -7.48538494e-01  4.87555057e-01 -5.95430732e-02\n",
            "  1.40285838e+00  5.36995232e-01 -4.09244537e-01 -3.09848934e-01\n",
            "  2.07216546e-01 -5.38437128e-01 -1.76882935e+00 -2.20320269e-01\n",
            "  4.56210017e-01 -2.06778169e-01  2.98239082e-01 -9.17957366e-01\n",
            " -1.59047082e-01 -1.56152725e-01 -6.61046207e-01 -3.46495360e-01\n",
            "  2.59919494e-01 -1.03880286e+00  8.10754597e-01 -2.64203399e-01\n",
            "  5.13498604e-01  4.67725992e-02 -1.01086938e+00  5.05456269e-01\n",
            " -5.66858768e-01 -2.77242452e-01 -8.11509609e-01  1.36229381e-01\n",
            "  4.65105534e-01 -5.29846728e-01 -4.25501108e-01  4.91608739e-01\n",
            " -1.83277857e+00 -4.59670424e-01 -1.39496648e+00  1.04680903e-01\n",
            "  2.35964265e-02 -1.31784067e-01  2.40549400e-01  7.09388316e-01\n",
            " -6.22274816e-01  4.26806062e-01  5.96254647e-01 -5.33519328e-01\n",
            " -1.02642506e-01  5.73451579e-01 -7.62763142e-04  2.32538730e-02\n",
            "  2.99236774e-01  5.72047174e-01 -9.25434053e-01  3.55878145e-01\n",
            " -6.71749115e-01 -1.90053955e-01  5.42970598e-01 -8.78225565e-01\n",
            " -3.80336195e-01  5.20673335e-01 -1.24747217e-01  1.25722539e+00\n",
            " -4.55647796e-01 -9.33665454e-01  3.82503897e-01  3.96963835e-01\n",
            "  2.18991041e-02  1.44618228e-01 -2.10753500e-01 -5.82221210e-01\n",
            "  1.50167906e+00 -7.97508240e-01  3.63242388e-01 -1.24232256e+00\n",
            "  6.73217952e-01 -3.42220038e-01 -1.77850202e-01  1.45242944e-01\n",
            " -5.60672462e-01  8.41260627e-02 -4.27313954e-01 -1.53731599e-01\n",
            "  2.59565800e-01 -3.80988836e-01 -9.88188311e-02  3.59979481e-01\n",
            " -1.40018746e-01 -2.59456873e-01 -5.71532428e-01  3.02355200e-01\n",
            " -2.71892190e-01 -3.34614158e-01  9.13957059e-01  1.97447821e-01\n",
            "  1.66129124e+00  7.89181739e-02  1.01160812e+00 -7.15364754e-01\n",
            " -1.75984338e-01  2.26137802e-01 -1.97340354e-01  1.06835276e-01\n",
            "  3.82634997e-01 -3.96904498e-01 -2.65921831e-01 -6.54364347e-01\n",
            "  7.00026751e-01 -7.74569988e-01 -4.50540870e-01 -1.26599073e-01\n",
            "  6.37006760e-01  5.74379981e-01 -4.60669667e-01 -1.19470036e+00\n",
            "  3.67950708e-01  1.07073359e-01  7.99305975e-01  2.67854363e-01\n",
            " -1.74252108e-01  3.29384357e-01  1.72140718e-01 -2.02368331e+00\n",
            "  6.68404758e-01  1.20289838e+00 -1.48398027e-01 -1.73530340e-01\n",
            " -5.25661886e-01  1.05195367e+00  1.48632869e-01 -6.75708950e-01\n",
            "  7.48925880e-02 -2.19143212e-01  3.53318937e-02  2.64875382e-01\n",
            " -7.57255971e-01 -1.12906659e+00 -4.81754929e-01  3.64225030e-01\n",
            " -7.15996444e-01 -3.13265830e-01 -8.37000787e-01  9.95832920e-01\n",
            "  4.17570025e-01 -1.22814953e+00  7.50326931e-01  9.16455746e-01\n",
            "  1.84924245e-01 -1.25073540e+00 -4.87364620e-01 -5.65348208e-01\n",
            " -5.10939837e-01  7.11264431e-01 -3.06942407e-02 -8.10933392e-03\n",
            " -4.08310652e-01 -2.81060070e-01 -6.31686032e-01  3.79379541e-01\n",
            " -1.13083792e+00  7.18893290e-01  5.55283368e-01 -1.21683538e+00\n",
            " -3.82352114e-01  8.73149708e-02 -4.78900343e-01 -2.88844462e-02\n",
            "  7.06100047e-01  8.79453421e-02 -1.03545046e+00  2.95217991e-01\n",
            "  2.51799732e-01 -1.42639995e-01 -1.02688797e-01 -1.03619911e-01\n",
            " -3.88139814e-01 -7.53355801e-01  1.58096224e-01  3.03588361e-01\n",
            "  3.74105066e-01 -5.05376816e-01 -7.36280605e-02  4.57600206e-01\n",
            "  6.27741590e-02  9.61292610e-02  6.64555490e-01 -6.20643020e-01\n",
            "  3.40923578e-01 -5.17582335e-02 -8.19383085e-01 -7.70114243e-01\n",
            " -2.43997097e-01  2.38257423e-01 -9.70292389e-01  2.84819096e-01\n",
            " -1.56575106e-02  3.78337473e-01 -1.96477935e-01  5.04778363e-02\n",
            "  5.75729191e-01 -4.05688047e-01  4.84971136e-01  8.88384998e-01\n",
            " -1.77292311e+00  8.42507124e-01  3.91929477e-01  2.66626209e-01\n",
            " -1.71809737e-02  3.72087359e-01 -2.73188561e-01  3.37993950e-02\n",
            " -9.89446938e-01  7.54704952e-01  6.69783652e-01  1.83681801e-01\n",
            "  1.57874680e+00  2.80381829e-01 -2.47763917e-01 -1.02284408e+00\n",
            " -1.04517639e+00 -1.04133618e+00 -4.52884942e-01  4.44784731e-01\n",
            " -5.36105871e-01  2.77267218e-01 -2.60214061e-01  4.20505613e-01\n",
            " -1.73176154e-01  2.32500032e-01 -7.91834354e-01 -6.46124184e-01\n",
            "  2.79049903e-01  7.69317329e-01 -4.19700056e-01  9.74984169e-01\n",
            "  3.11200976e-01  8.45399678e-01 -3.02092314e-01  7.81074286e-01\n",
            " -1.72911242e-01 -5.75415552e-01 -4.90268260e-01 -3.09285641e-01\n",
            "  5.14143527e-01  6.45542324e-01  8.84409904e-01 -7.19639957e-01\n",
            " -3.28021139e-01 -2.73560256e-01  1.88407496e-01 -5.69013894e-01\n",
            "  7.22701550e-01 -4.63181853e-01  7.00936079e-01 -3.43181372e-01\n",
            "  8.68054330e-01 -1.72515750e-01  7.47753918e-01 -1.36756197e-01\n",
            "  5.72094262e-01  1.15834810e-01  3.12678397e-01  1.09131880e-01\n",
            " -6.08921237e-02 -7.75371790e-01  1.07653700e-01 -1.49044186e-01\n",
            "  3.21081042e-01  2.82909662e-01 -6.24795668e-02 -5.75002432e-01\n",
            " -7.57956684e-01 -1.96431167e-02 -1.87102318e-01 -8.82721245e-01\n",
            "  8.18599939e-01 -1.01163828e+00 -6.17377937e-01 -1.49191424e-01\n",
            "  1.37757897e-01 -4.44440365e-01 -2.45239437e-01 -6.81017458e-01\n",
            "  3.88193429e-02  9.94315624e-01 -1.91522762e-01 -9.25236523e-01\n",
            "  3.63023132e-01 -2.02962741e-01 -1.48043036e-04  3.32737833e-01\n",
            "  2.35064477e-02  4.11338091e-01 -6.32895529e-03  7.91630924e-01\n",
            "  3.32887143e-01  3.05132657e-01  1.00698955e-02 -4.58768964e-01\n",
            "  2.02822194e-01  6.88309014e-01 -5.86794794e-01  6.81829080e-02\n",
            "  5.52963734e-01  2.59312600e-01 -1.40206230e+00 -1.60746768e-01\n",
            "  9.30299386e-02  1.01051247e+00  7.79164553e-01 -6.51889861e-01\n",
            " -3.54091167e-01  2.03788161e-01  5.35460293e-01 -5.86588085e-01\n",
            " -4.43595983e-02  1.10793686e+00  7.73576736e-01 -1.24109030e-01\n",
            "  1.23492517e-01 -2.11044952e-01  2.59298652e-01  1.11618973e-01\n",
            "  1.21909417e-01  4.62975234e-01 -1.35898814e-01  6.77877605e-01\n",
            " -2.62906760e-01 -4.15040851e-02 -8.93676758e-01  5.11966646e-01\n",
            " -2.85086364e-01  6.79086819e-02  2.75363207e-01  4.18674856e-01\n",
            " -3.47241849e-01  9.32155311e-01  2.42729247e-01 -1.20588768e+00\n",
            " -3.41777354e-01 -5.32339066e-02 -1.51560739e-01 -1.11630785e+00\n",
            " -9.93518651e-01  7.60832429e-02  9.71828759e-01  2.18451679e-01\n",
            " -9.45791379e-02  3.17892343e-01  1.45442426e-01  7.58543238e-02\n",
            "  8.69145170e-02 -2.77416378e-01  2.78169215e-01 -5.50714731e-01\n",
            " -6.23475254e-01  4.84471768e-01  5.43279350e-01  6.26082122e-01\n",
            "  8.39020193e-01  1.00957274e-01 -5.10569751e-01  8.35641384e-01\n",
            " -1.56812832e-01 -5.27659714e-01  8.58979523e-01 -1.62751317e-01\n",
            " -3.93274814e-01 -5.13353884e-01  5.20716846e-01 -1.37926459e-01\n",
            " -1.83979154e-01 -5.52535772e-01  6.79370165e-02  7.57341146e-01\n",
            "  1.13323176e+00  1.61947072e-01  5.37510157e-01 -1.41529119e+00\n",
            " -5.34351110e-01 -1.75365567e-01  5.49125373e-01 -4.03966993e-01\n",
            "  8.48216414e-02  1.40112296e-01  9.26112756e-02 -1.21270192e+00\n",
            "  4.82133299e-01 -5.17475665e-01  5.35416901e-01  4.07441333e-02\n",
            "  7.21069336e-01  1.55220941e-01 -1.31888166e-01 -5.03212869e-01\n",
            " -5.65652430e-01 -7.84643948e-01  4.76808995e-01  1.42941788e-01\n",
            "  3.82889897e-01 -1.04782045e+00  1.62321940e-01 -1.17008120e-01\n",
            "  1.24462998e+00 -2.74095923e-01  2.72701979e-01 -4.14261580e-01\n",
            "  1.04063618e+00  1.11596487e-01  5.54525554e-01  1.34804055e-01\n",
            " -1.13326065e-01 -4.12528127e-01  2.01786324e-01 -1.03774332e-01\n",
            " -3.99353474e-01 -8.51255417e-01  7.90764630e-01  9.77581084e-01\n",
            "  2.43087515e-01 -1.86219442e+00  2.60545313e-01  8.16603124e-01\n",
            "  3.77289146e-01 -5.37240267e-01  3.66582841e-01 -8.69650424e-01\n",
            " -5.41159809e-01 -1.88478842e-01 -1.32624960e+00  4.11014229e-01\n",
            " -1.14565694e+00 -8.03869545e-01 -6.14229858e-01  7.05134392e-01\n",
            " -3.06284100e-01  3.56517076e-01 -3.36122900e-01  8.49582180e-02\n",
            "  1.84083343e-01  6.22688591e-01  1.28596798e-02  1.67480123e+00\n",
            " -6.81407675e-02  5.39814830e-01 -2.81383544e-02 -1.07476723e+00\n",
            " -6.16216362e-01  6.24681950e-01 -4.49755460e-01  4.78915334e-01\n",
            " -5.67339770e-02  1.46876171e-01  5.71980298e-01 -2.57789165e-01\n",
            " -1.04335153e+00 -4.36781555e-01 -6.59217060e-01  6.94500059e-02\n",
            " -7.54172564e-01  4.79038000e-01  5.72221398e-01  5.17440289e-02\n",
            " -3.42166096e-01  2.13546559e-01 -7.46649444e-01  2.33275771e-01\n",
            " -9.12697792e-01 -2.83701688e-01  2.94865549e-01  3.52952592e-02\n",
            " -1.67097390e-01 -2.86835819e-01 -8.77280906e-02 -2.83334643e-01\n",
            " -9.64476645e-01  4.83113796e-01  9.70933735e-02  4.60786968e-01\n",
            " -4.18148488e-01 -8.61677825e-01 -6.22519970e-01  2.73943871e-01\n",
            "  3.83224674e-02  1.66600272e-01  6.06112957e-01 -4.45906252e-01\n",
            "  1.10953379e+00  3.96842152e-01  1.36332840e-01 -4.31634039e-01\n",
            " -1.62405267e-01 -5.04633605e-01 -1.59524813e-01  9.45782736e-02]\n"
          ],
          "name": "stdout"
        }
      ]
    },
    {
      "cell_type": "code",
      "metadata": {
        "id": "5c5utc3ks1lP",
        "colab": {
          "base_uri": "https://localhost:8080/",
          "height": 101
        },
        "outputId": "c3c7330d-74fe-4e3a-aa73-b39910537797"
      },
      "source": [
        "!pip install sklearn\n",
        "from sklearn.metrics.pairwise import cosine_similarity\n",
        "import scipy"
      ],
      "execution_count": null,
      "outputs": [
        {
          "output_type": "stream",
          "text": [
            "Requirement already satisfied: sklearn in /usr/local/lib/python3.6/dist-packages (0.0)\n",
            "Requirement already satisfied: scikit-learn in /usr/local/lib/python3.6/dist-packages (from sklearn) (0.22.2.post1)\n",
            "Requirement already satisfied: scipy>=0.17.0 in /usr/local/lib/python3.6/dist-packages (from scikit-learn->sklearn) (1.4.1)\n",
            "Requirement already satisfied: joblib>=0.11 in /usr/local/lib/python3.6/dist-packages (from scikit-learn->sklearn) (0.14.1)\n",
            "Requirement already satisfied: numpy>=1.11.0 in /usr/local/lib/python3.6/dist-packages (from scikit-learn->sklearn) (1.18.3)\n"
          ],
          "name": "stdout"
        }
      ]
    },
    {
      "cell_type": "code",
      "metadata": {
        "id": "w9-Aj8gJsi6V",
        "colab": {
          "base_uri": "https://localhost:8080/",
          "height": 202
        },
        "outputId": "2c3f7db8-518a-4578-d199-27a5840ef547"
      },
      "source": [
        "query = 'COVID-19 is pandemic' #@param {type: 'string'}\n",
        "\n",
        "queries = [query]\n",
        "query_embeddings = model.encode(queries)\n",
        "\n",
        "# Find the closest sentences of the corpus for each query sentence based on cosine similarity\n",
        "number_top_matches =  2#@param {type: \"number\"}\n",
        "\n",
        "print(\"Semantic Search Results\")\n",
        "\n",
        "for query, query_embedding in zip(queries, query_embeddings):\n",
        "    distances = scipy.spatial.distance.cdist([query_embedding], sentence_embeddings, \"cosine\")[0]\n",
        "\n",
        "    results = zip(range(len(distances)), distances)\n",
        "    results = sorted(results, key=lambda x: x[1])\n",
        "\n",
        "    print(\"\\n\\n======================\\n\\n\")\n",
        "    print(\"Query:\", query)\n",
        "    print(\"\\nTop 2 most similar sentences in corpus:\")\n",
        "\n",
        "    for idx, distance in results[0:number_top_matches]:\n",
        "        print(sentences[idx].strip(), \"(Cosine Score: %.4f)\" % (1-distance))"
      ],
      "execution_count": null,
      "outputs": [
        {
          "output_type": "stream",
          "text": [
            "Semantic Search Results\n",
            "\n",
            "\n",
            "======================\n",
            "\n",
            "\n",
            "Query: COVID-19 is pandemic\n",
            "\n",
            "Top 2 most similar sentences in corpus:\n",
            "The Impact of Host-Based Early Warning on Disease Outbreaks (Cosine Score: 0.5847)\n",
            "Journal Pre-proof What Should Gastroenterologists and Patients Know About COVID-19? (Cosine Score: 0.5723)\n"
          ],
          "name": "stdout"
        }
      ]
    }
  ]
}