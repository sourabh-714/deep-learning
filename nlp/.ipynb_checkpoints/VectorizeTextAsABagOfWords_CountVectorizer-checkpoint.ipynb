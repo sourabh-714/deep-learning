{
 "cells": [
  {
   "cell_type": "markdown",
   "metadata": {
    "id": "w0rYHDsF29A0"
   },
   "source": [
    "## Vectorize text as a bag-of-words"
   ]
  },
  {
   "cell_type": "code",
   "execution_count": null,
   "metadata": {
    "id": "aLaIqkLu29BM",
    "outputId": "f2fc4fcc-a4be-4699-ad93-0a179af4c350"
   },
   "outputs": [
    {
     "name": "stdout",
     "output_type": "stream",
     "text": [
      "0.22.1\n"
     ]
    }
   ],
   "source": [
    "import sklearn\n",
    "\n",
    "print(sklearn.__version__)"
   ]
  },
  {
   "cell_type": "code",
   "execution_count": null,
   "metadata": {
    "id": "ISw9QA2B29BS"
   },
   "outputs": [],
   "source": [
    "from sklearn.feature_extraction.text import CountVectorizer"
   ]
  },
  {
   "cell_type": "code",
   "execution_count": null,
   "metadata": {
    "id": "8m7PMNbX29BT"
   },
   "outputs": [],
   "source": [
    "train_text = [\"A bird in hand is worth two in the bush.\",\n",
    "              \"Good things come to those who wait.\",\n",
    "              \"These watches cost $1500! \",\n",
    "              \"There are other fish in the sea.\",\n",
    "              \"The ball is in your court.\",\n",
    "              \"Mr. Smith Goes to Washington \",\n",
    "              \"Doogie Howser M.D.\"]\n",
    "\n",
    "count_vectorizer = CountVectorizer()"
   ]
  },
  {
   "cell_type": "code",
   "execution_count": null,
   "metadata": {
    "id": "88Lgkz9429BV",
    "outputId": "dfbd1e32-ba69-4048-a753-d4915618e5b1"
   },
   "outputs": [
    {
     "data": {
      "text/plain": [
       "CountVectorizer(analyzer='word', binary=False, decode_error='strict',\n",
       "                dtype=<class 'numpy.int64'>, encoding='utf-8', input='content',\n",
       "                lowercase=True, max_df=1.0, max_features=None, min_df=1,\n",
       "                ngram_range=(1, 1), preprocessor=None, stop_words=None,\n",
       "                strip_accents=None, token_pattern='(?u)\\\\b\\\\w\\\\w+\\\\b',\n",
       "                tokenizer=None, vocabulary=None)"
      ]
     },
     "execution_count": 4,
     "metadata": {
      "tags": []
     },
     "output_type": "execute_result"
    }
   ],
   "source": [
    "count_vectorizer.fit(train_text)"
   ]
  },
  {
   "cell_type": "code",
   "execution_count": null,
   "metadata": {
    "id": "NrwhHpSF29BW",
    "outputId": "bf90dc5a-c5b3-4232-82e5-4ac1f60d2b4a"
   },
   "outputs": [
    {
     "data": {
      "text/plain": [
       "['1500',\n",
       " 'are',\n",
       " 'ball',\n",
       " 'bird',\n",
       " 'bush',\n",
       " 'come',\n",
       " 'cost',\n",
       " 'court',\n",
       " 'doogie',\n",
       " 'fish',\n",
       " 'goes',\n",
       " 'good',\n",
       " 'hand',\n",
       " 'howser',\n",
       " 'in',\n",
       " 'is',\n",
       " 'mr',\n",
       " 'other',\n",
       " 'sea',\n",
       " 'smith',\n",
       " 'the',\n",
       " 'there',\n",
       " 'these',\n",
       " 'things',\n",
       " 'those',\n",
       " 'to',\n",
       " 'two',\n",
       " 'wait',\n",
       " 'washington',\n",
       " 'watches',\n",
       " 'who',\n",
       " 'worth',\n",
       " 'your']"
      ]
     },
     "execution_count": 5,
     "metadata": {
      "tags": []
     },
     "output_type": "execute_result"
    }
   ],
   "source": [
    "count_vectorizer.get_feature_names()"
   ]
  },
  {
   "cell_type": "code",
   "execution_count": null,
   "metadata": {
    "id": "F1Jss13529BY"
   },
   "outputs": [],
   "source": [
    "count_vectorizer.get_stop_words()"
   ]
  },
  {
   "cell_type": "code",
   "execution_count": null,
   "metadata": {
    "id": "zMPQai8r29Ba",
    "outputId": "6b3d1e4a-1eb4-4e97-d216-b55028bcf350"
   },
   "outputs": [
    {
     "data": {
      "text/plain": [
       "{'bird': 3,\n",
       " 'in': 14,\n",
       " 'hand': 12,\n",
       " 'is': 15,\n",
       " 'worth': 31,\n",
       " 'two': 26,\n",
       " 'the': 20,\n",
       " 'bush': 4,\n",
       " 'good': 11,\n",
       " 'things': 23,\n",
       " 'come': 5,\n",
       " 'to': 25,\n",
       " 'those': 24,\n",
       " 'who': 30,\n",
       " 'wait': 27,\n",
       " 'these': 22,\n",
       " 'watches': 29,\n",
       " 'cost': 6,\n",
       " '1500': 0,\n",
       " 'there': 21,\n",
       " 'are': 1,\n",
       " 'other': 17,\n",
       " 'fish': 9,\n",
       " 'sea': 18,\n",
       " 'ball': 2,\n",
       " 'your': 32,\n",
       " 'court': 7,\n",
       " 'mr': 16,\n",
       " 'smith': 19,\n",
       " 'goes': 10,\n",
       " 'washington': 28,\n",
       " 'doogie': 8,\n",
       " 'howser': 13}"
      ]
     },
     "execution_count": 7,
     "metadata": {
      "tags": []
     },
     "output_type": "execute_result"
    }
   ],
   "source": [
    "count_vectorizer.vocabulary_"
   ]
  },
  {
   "cell_type": "code",
   "execution_count": null,
   "metadata": {
    "id": "ZmdvKZaC29Bb",
    "outputId": "3dca724a-cf1c-4fa2-8e6a-8bd591b59105"
   },
   "outputs": [
    {
     "data": {
      "text/plain": [
       "23"
      ]
     },
     "execution_count": 8,
     "metadata": {
      "tags": []
     },
     "output_type": "execute_result"
    }
   ],
   "source": [
    "count_vectorizer.vocabulary_.get('things')"
   ]
  },
  {
   "cell_type": "code",
   "execution_count": null,
   "metadata": {
    "id": "zdGwj_D029Bd",
    "outputId": "edea68cb-a7cb-461a-ccd1-496575d39c02"
   },
   "outputs": [
    {
     "data": {
      "text/plain": [
       "['A bird in hand is worth two in the bush.',\n",
       " 'Good things come to those who wait.',\n",
       " 'These watches cost $1500! ',\n",
       " 'There are other fish in the sea.',\n",
       " 'The ball is in your court.',\n",
       " 'Mr. Smith Goes to Washington ',\n",
       " 'Doogie Howser M.D.']"
      ]
     },
     "execution_count": 9,
     "metadata": {
      "tags": []
     },
     "output_type": "execute_result"
    }
   ],
   "source": [
    "train_text"
   ]
  },
  {
   "cell_type": "code",
   "execution_count": null,
   "metadata": {
    "id": "1fu6u4Bx29Be"
   },
   "outputs": [],
   "source": [
    "transformed_vector = count_vectorizer.transform(train_text)"
   ]
  },
  {
   "cell_type": "code",
   "execution_count": null,
   "metadata": {
    "id": "2z4CP59629Bf",
    "outputId": "15eb834a-58e2-4749-fa0d-3ecb31d82a51"
   },
   "outputs": [
    {
     "name": "stdout",
     "output_type": "stream",
     "text": [
      "(7, 33)\n"
     ]
    }
   ],
   "source": [
    "print(transformed_vector.shape)"
   ]
  },
  {
   "cell_type": "code",
   "execution_count": null,
   "metadata": {
    "id": "VlxKZBCg29Bg",
    "outputId": "b6e8117a-3a85-4947-e9a9-9fff5d4638db"
   },
   "outputs": [
    {
     "name": "stdout",
     "output_type": "stream",
     "text": [
      "[[0 0 0 1 1 0 0 0 0 0 0 0 1 0 2 1 0 0 0 0 1 0 0 0 0 0 1 0 0 0 0 1 0]\n",
      " [0 0 0 0 0 1 0 0 0 0 0 1 0 0 0 0 0 0 0 0 0 0 0 1 1 1 0 1 0 0 1 0 0]\n",
      " [1 0 0 0 0 0 1 0 0 0 0 0 0 0 0 0 0 0 0 0 0 0 1 0 0 0 0 0 0 1 0 0 0]\n",
      " [0 1 0 0 0 0 0 0 0 1 0 0 0 0 1 0 0 1 1 0 1 1 0 0 0 0 0 0 0 0 0 0 0]\n",
      " [0 0 1 0 0 0 0 1 0 0 0 0 0 0 1 1 0 0 0 0 1 0 0 0 0 0 0 0 0 0 0 0 1]\n",
      " [0 0 0 0 0 0 0 0 0 0 1 0 0 0 0 0 1 0 0 1 0 0 0 0 0 1 0 0 1 0 0 0 0]\n",
      " [0 0 0 0 0 0 0 0 1 0 0 0 0 1 0 0 0 0 0 0 0 0 0 0 0 0 0 0 0 0 0 0 0]]\n"
     ]
    }
   ],
   "source": [
    "print(transformed_vector.toarray())"
   ]
  },
  {
   "cell_type": "code",
   "execution_count": null,
   "metadata": {
    "id": "LXbwLsR_29Bh",
    "outputId": "5429e0b5-e7c4-4969-d3af-62cff42379b4"
   },
   "outputs": [
    {
     "data": {
      "text/plain": [
       "array([[0, 0, 0, 0, 0, 0, 0, 0, 0, 0, 0, 0, 0, 0, 0, 0, 0, 0, 0, 0, 0, 0,\n",
       "        0, 0, 0, 0, 0, 0, 0, 0, 0, 0, 0]])"
      ]
     },
     "execution_count": 13,
     "metadata": {
      "tags": []
     },
     "output_type": "execute_result"
    }
   ],
   "source": [
    "test_text = [\"Every cloud has a silver lining.\"]\n",
    "\n",
    "count_vectorizer.transform(test_text).toarray()"
   ]
  },
  {
   "cell_type": "code",
   "execution_count": null,
   "metadata": {
    "id": "zU4XRWsB29Bi",
    "outputId": "b78c2b87-244a-4915-ffc5-d2962add6b26"
   },
   "outputs": [
    {
     "data": {
      "text/plain": [
       "CountVectorizer(analyzer='word', binary=False, decode_error='strict',\n",
       "                dtype=<class 'numpy.int64'>, encoding='utf-8', input='content',\n",
       "                lowercase=True, max_df=1.0, max_features=None, min_df=1,\n",
       "                ngram_range=(1, 1), preprocessor=None, stop_words=None,\n",
       "                strip_accents=None, token_pattern='(?u)\\\\b\\\\w\\\\w+\\\\b',\n",
       "                tokenizer=None, vocabulary=None)"
      ]
     },
     "execution_count": 14,
     "metadata": {
      "tags": []
     },
     "output_type": "execute_result"
    }
   ],
   "source": [
    "count_vectorizer.fit(train_text + test_text)"
   ]
  },
  {
   "cell_type": "code",
   "execution_count": null,
   "metadata": {
    "id": "EEr__X7929Bj",
    "outputId": "b6a8ab4e-07f6-4ba0-bece-f2b3c2c931b7"
   },
   "outputs": [
    {
     "name": "stdout",
     "output_type": "stream",
     "text": [
      "{'bird': 3, 'in': 17, 'hand': 14, 'is': 18, 'worth': 36, 'two': 31, 'the': 25, 'bush': 4, 'good': 13, 'things': 28, 'come': 6, 'to': 30, 'those': 29, 'who': 35, 'wait': 32, 'these': 27, 'watches': 34, 'cost': 7, '1500': 0, 'there': 26, 'are': 1, 'other': 21, 'fish': 11, 'sea': 22, 'ball': 2, 'your': 37, 'court': 8, 'mr': 20, 'smith': 24, 'goes': 12, 'washington': 33, 'doogie': 9, 'howser': 16, 'every': 10, 'cloud': 5, 'has': 15, 'silver': 23, 'lining': 19}\n"
     ]
    }
   ],
   "source": [
    "print(count_vectorizer.vocabulary_)"
   ]
  },
  {
   "cell_type": "code",
   "execution_count": null,
   "metadata": {
    "id": "kicWlqJV29Bk",
    "outputId": "2497b838-2ed3-44a5-c334-4f5731a6adf0"
   },
   "outputs": [
    {
     "data": {
      "text/plain": [
       "array([[0, 0, 0, 0, 0, 1, 0, 0, 0, 0, 1, 0, 0, 0, 0, 1, 0, 0, 0, 1, 0, 0,\n",
       "        0, 1, 0, 0, 0, 0, 0, 0, 0, 0, 0, 0, 0, 0, 0, 0]])"
      ]
     },
     "execution_count": 16,
     "metadata": {
      "tags": []
     },
     "output_type": "execute_result"
    }
   ],
   "source": [
    "count_vectorizer.transform(test_text).toarray()"
   ]
  },
  {
   "cell_type": "code",
   "execution_count": null,
   "metadata": {
    "id": "kjcVxdVL29Bl",
    "outputId": "0cd0551e-0a86-479d-c2e3-89dfb63d331e"
   },
   "outputs": [
    {
     "data": {
      "text/plain": [
       "<3x38 sparse matrix of type '<class 'numpy.int64'>'\n",
       "\twith 9 stored elements in Compressed Sparse Row format>"
      ]
     },
     "execution_count": 17,
     "metadata": {
      "tags": []
     },
     "output_type": "execute_result"
    }
   ],
   "source": [
    "text = [\"That bird is sitting in the bush and this bird is in hand.\",\n",
    "        \"Wait and then walk\",\n",
    "        \"Watches are cool \"]\n",
    "\n",
    "transformed_vector = count_vectorizer.transform(text)\n",
    "\n",
    "transformed_vector"
   ]
  },
  {
   "cell_type": "code",
   "execution_count": null,
   "metadata": {
    "id": "gh8xhgRz29Bm",
    "outputId": "370e0dd3-fef0-4e54-d4a0-5012ee09c377"
   },
   "outputs": [
    {
     "name": "stdout",
     "output_type": "stream",
     "text": [
      "  (0, 3)\t2\n",
      "  (0, 4)\t1\n",
      "  (0, 14)\t1\n",
      "  (0, 17)\t2\n",
      "  (0, 18)\t2\n",
      "  (0, 25)\t1\n",
      "  (1, 32)\t1\n",
      "  (2, 1)\t1\n",
      "  (2, 34)\t1\n"
     ]
    }
   ],
   "source": [
    "print(transformed_vector)"
   ]
  },
  {
   "cell_type": "code",
   "execution_count": null,
   "metadata": {
    "id": "My-t0cCS29Bn",
    "outputId": "586d4af6-66e5-43e5-d31d-8193601f85ed"
   },
   "outputs": [
    {
     "data": {
      "text/plain": [
       "(3, 38)"
      ]
     },
     "execution_count": 19,
     "metadata": {
      "tags": []
     },
     "output_type": "execute_result"
    }
   ],
   "source": [
    "transformed_vector.shape"
   ]
  },
  {
   "cell_type": "code",
   "execution_count": null,
   "metadata": {
    "id": "sA8Kt1Zi29Bo",
    "outputId": "b502298b-42d8-4ecd-956e-4e5cf62ba1bc"
   },
   "outputs": [
    {
     "name": "stdout",
     "output_type": "stream",
     "text": [
      "[[0 0 0 2 1 0 0 0 0 0 0 0 0 0 1 0 0 2 2 0 0 0 0 0 0 1 0 0 0 0 0 0 0 0 0 0\n",
      "  0 0]\n",
      " [0 0 0 0 0 0 0 0 0 0 0 0 0 0 0 0 0 0 0 0 0 0 0 0 0 0 0 0 0 0 0 0 1 0 0 0\n",
      "  0 0]\n",
      " [0 1 0 0 0 0 0 0 0 0 0 0 0 0 0 0 0 0 0 0 0 0 0 0 0 0 0 0 0 0 0 0 0 0 1 0\n",
      "  0 0]]\n"
     ]
    }
   ],
   "source": [
    "print(transformed_vector.toarray())"
   ]
  },
  {
   "cell_type": "markdown",
   "metadata": {
    "id": "Imb9F7fO29Bp"
   },
   "source": [
    "### How to read the spare array\n",
    "The first tuple is the sentense. There are 3 sentenses, so the indices are 0, 1 and 2\n",
    "\n",
    "The next number is the index into the sentense. And th elast number is the count. \n",
    "\n",
    "(0, 4)\t1 Means that in Sentense 1 (0) there is a 1 in the 4th index.\n",
    "\n",
    "### CountVectorizer on text file"
   ]
  },
  {
   "cell_type": "code",
   "execution_count": null,
   "metadata": {
    "id": "9Fa1hNc829Bq",
    "outputId": "26f02ad2-7820-470c-ed7e-33af69be6f30"
   },
   "outputs": [
    {
     "name": "stdout",
     "output_type": "stream",
     "text": [
      "Marie Curie was a Polish-born physicist and chemist and one of the most famous scientists of her time.\n",
      "Together with her husband Pierre, she was awarded the Nobel Prize in 1903, and she went on to win another in 1911.\n",
      "Marie Sklodowska was born in Warsaw on 7 November 1867, the daughter of a teacher.\n",
      "In 1891, she went to Paris to study physics and mathematics at the Sorbonne where she met Pierre Curie, professor of the School of Physics.\n",
      "They were married in 1895.\n",
      "The Curies worked together investigating radioactivity, building on the work of the German physicist Roentgen and the French physicist Becquerel.\n",
      "In July 1898, the Curies announced the discovery of a new chemical element, polonium.\n",
      "At the end of the year, they announced the discovery of another, radium.\n",
      "The Curies, along with Becquerel, were awarded the Nobel Prize for Physics in 1903.\n",
      "Pierre's life was cut short in 1906 when he was knocked down and killed by a carriage.\n",
      "Marie took over his teaching post, becoming the first woman to teach at the Sorbonne, and devoted herself to continuing the work that they had begun together.\n",
      "She received a second Nobel Prize, for Chemistry, in 1911.\n",
      "The Curie's research was crucial in the development of x-rays in surgery.\n",
      "During World War One Curie helped to equip ambulances with x-ray equipment, which she herself drove to the front lines.\n",
      "The International Red Cross made her head of its radiological service and she held training courses for medical orderlies and doctors in the new techniques.\n",
      "Despite her success, Marie continued to face great opposition from male scientists in France, and she never received significant financial benefits from her work.\n",
      "By the late 1920s her health was beginning to deteriorate.\n",
      "She died on 4 July 1934 from leukaemia, caused by exposure to high-energy radiation from her research.\n",
      "The Curies' eldest daughter Irene was herself a scientist and winner of the Nobel Prize for Chemistry.\n",
      "\n"
     ]
    }
   ],
   "source": [
    "with open('biography.txt', 'r') as f:\n",
    "    file_contents = f.read()\n",
    "\n",
    "print(file_contents)"
   ]
  },
  {
   "cell_type": "code",
   "execution_count": null,
   "metadata": {
    "id": "n2XOAgzF29Br",
    "outputId": "be54260e-d875-43f5-9678-762d1e4ee513"
   },
   "outputs": [
    {
     "name": "stdout",
     "output_type": "stream",
     "text": [
      "['Marie Curie was a Polish-born physicist and chemist and one of the most famous scientists of her time.', 'Together with her husband Pierre, she was awarded the Nobel Prize in 1903, and she went on to win another in 1911.', 'Marie Sklodowska was born in Warsaw on 7 November 1867, the daughter of a teacher.', 'In 1891, she went to Paris to study physics and mathematics at the Sorbonne where she met Pierre Curie, professor of the School of Physics.', 'They were married in 1895.', 'The Curies worked together investigating radioactivity, building on the work of the German physicist Roentgen and the French physicist Becquerel.', 'In July 1898, the Curies announced the discovery of a new chemical element, polonium.', 'At the end of the year, they announced the discovery of another, radium.', 'The Curies, along with Becquerel, were awarded the Nobel Prize for Physics in 1903.', \"Pierre's life was cut short in 1906 when he was knocked down and killed by a carriage.\", 'Marie took over his teaching post, becoming the first woman to teach at the Sorbonne, and devoted herself to continuing the work that they had begun together.', 'She received a second Nobel Prize, for Chemistry, in 1911.', \"The Curie's research was crucial in the development of x-rays in surgery.\", 'During World War One Curie helped to equip ambulances with x-ray equipment, which she herself drove to the front lines.', 'The International Red Cross made her head of its radiological service and she held training courses for medical orderlies and doctors in the new techniques.', 'Despite her success, Marie continued to face great opposition from male scientists in France, and she never received significant financial benefits from her work.', 'By the late 1920s her health was beginning to deteriorate.', 'She died on 4 July 1934 from leukaemia, caused by exposure to high-energy radiation from her research.', \"The Curies' eldest daughter Irene was herself a scientist and winner of the Nobel Prize for Chemistry.\", '']\n"
     ]
    }
   ],
   "source": [
    "sentences = file_contents.split('\\n')\n",
    "        \n",
    "print(sentences)"
   ]
  },
  {
   "cell_type": "code",
   "execution_count": null,
   "metadata": {
    "id": "T4HkyrDx29Bs",
    "outputId": "7c8a4263-f283-4580-edd9-654a8ee550a3"
   },
   "outputs": [
    {
     "data": {
      "text/plain": [
       "(20, 167)"
      ]
     },
     "execution_count": 23,
     "metadata": {
      "tags": []
     },
     "output_type": "execute_result"
    }
   ],
   "source": [
    "transformed_vector = count_vectorizer.fit_transform(sentences)\n",
    "\n",
    "transformed_vector.shape"
   ]
  },
  {
   "cell_type": "code",
   "execution_count": null,
   "metadata": {
    "id": "mQVdlBZX29Bt",
    "outputId": "ae08140d-d55e-4d4b-8d11-3b402e6aa0a3"
   },
   "outputs": [
    {
     "name": "stdout",
     "output_type": "stream",
     "text": [
      "  (0, 91)\t1\n",
      "  (0, 34)\t1\n",
      "  (0, 153)\t1\n",
      "  (0, 111)\t1\n",
      "  (0, 21)\t1\n",
      "  (0, 108)\t1\n",
      "  (0, 11)\t2\n",
      "  (0, 27)\t1\n",
      "  (0, 103)\t1\n",
      "  (0, 101)\t2\n",
      "  (0, 144)\t1\n",
      "  (0, 96)\t1\n",
      "  (0, 56)\t1\n",
      "  (0, 128)\t1\n",
      "  (0, 72)\t1\n",
      "  (0, 146)\t1\n",
      "  (1, 153)\t1\n",
      "  (1, 11)\t1\n",
      "  (1, 144)\t1\n",
      "  (1, 72)\t1\n",
      "  (1, 148)\t1\n",
      "  (1, 161)\t1\n",
      "  (1, 76)\t1\n",
      "  (1, 110)\t1\n",
      "  (1, 131)\t2\n",
      "  :\t:\n",
      "  (17, 124)\t1\n",
      "  (17, 62)\t2\n",
      "  (17, 42)\t1\n",
      "  (17, 8)\t1\n",
      "  (17, 86)\t1\n",
      "  (17, 25)\t1\n",
      "  (17, 54)\t1\n",
      "  (17, 74)\t1\n",
      "  (17, 51)\t1\n",
      "  (17, 116)\t1\n",
      "  (18, 153)\t1\n",
      "  (18, 11)\t1\n",
      "  (18, 101)\t1\n",
      "  (18, 144)\t2\n",
      "  (18, 99)\t1\n",
      "  (18, 114)\t1\n",
      "  (18, 37)\t1\n",
      "  (18, 35)\t1\n",
      "  (18, 59)\t1\n",
      "  (18, 73)\t1\n",
      "  (18, 28)\t1\n",
      "  (18, 48)\t1\n",
      "  (18, 80)\t1\n",
      "  (18, 127)\t1\n",
      "  (18, 160)\t1\n"
     ]
    }
   ],
   "source": [
    "print(transformed_vector)"
   ]
  },
  {
   "cell_type": "code",
   "execution_count": null,
   "metadata": {
    "id": "N-Bw-tZg29Bu",
    "outputId": "69efdf80-d96e-4a26-d1c4-472197b3e9a7"
   },
   "outputs": [
    {
     "name": "stdout",
     "output_type": "stream",
     "text": [
      "{'marie': 91, 'curie': 34, 'was': 153, 'polish': 111, 'born': 21, 'physicist': 108, 'and': 11, 'chemist': 27, 'one': 103, 'of': 101, 'the': 144, 'most': 96, 'famous': 56, 'scientists': 128, 'her': 72, 'time': 146, 'together': 148, 'with': 161, 'husband': 76, 'pierre': 110, 'she': 131, 'awarded': 15, 'nobel': 99, 'prize': 114, 'in': 77, '1903': 4, 'went': 154, 'on': 102, 'to': 147, 'win': 159, 'another': 13, '1911': 6, 'sklodowska': 134, 'warsaw': 152, 'november': 100, '1867': 0, 'daughter': 37, 'teacher': 140, '1891': 1, 'paris': 107, 'study': 136, 'physics': 109, 'mathematics': 93, 'at': 14, 'sorbonne': 135, 'where': 157, 'met': 95, 'professor': 115, 'school': 126, 'they': 145, 'were': 155, 'married': 92, '1895': 2, 'curies': 35, 'worked': 164, 'investigating': 79, 'radioactivity': 117, 'building': 22, 'work': 163, 'german': 64, 'roentgen': 125, 'french': 61, 'becquerel': 17, 'july': 82, '1898': 3, 'announced': 12, 'discovery': 43, 'new': 98, 'chemical': 26, 'element': 49, 'polonium': 112, 'end': 50, 'year': 166, 'radium': 119, 'along': 9, 'for': 59, 'life': 87, 'cut': 36, 'short': 132, '1906': 5, 'when': 156, 'he': 67, 'knocked': 84, 'down': 45, 'killed': 83, 'by': 23, 'carriage': 24, 'took': 149, 'over': 106, 'his': 75, 'teaching': 141, 'post': 113, 'becoming': 16, 'first': 58, 'woman': 162, 'teach': 139, 'devoted': 41, 'herself': 73, 'continuing': 30, 'that': 143, 'had': 66, 'begun': 19, 'received': 122, 'second': 129, 'chemistry': 28, 'research': 124, 'crucial': 33, 'development': 40, 'rays': 121, 'surgery': 138, 'during': 47, 'world': 165, 'war': 151, 'helped': 71, 'equip': 52, 'ambulances': 10, 'ray': 120, 'equipment': 53, 'which': 158, 'drove': 46, 'front': 63, 'lines': 88, 'international': 78, 'red': 123, 'cross': 32, 'made': 89, 'head': 68, 'its': 81, 'radiological': 118, 'service': 130, 'held': 70, 'training': 150, 'courses': 31, 'medical': 94, 'orderlies': 105, 'doctors': 44, 'techniques': 142, 'despite': 38, 'success': 137, 'continued': 29, 'face': 55, 'great': 65, 'opposition': 104, 'from': 62, 'male': 90, 'france': 60, 'never': 97, 'significant': 133, 'financial': 57, 'benefits': 20, 'late': 85, '1920s': 7, 'health': 69, 'beginning': 18, 'deteriorate': 39, 'died': 42, '1934': 8, 'leukaemia': 86, 'caused': 25, 'exposure': 54, 'high': 74, 'energy': 51, 'radiation': 116, 'eldest': 48, 'irene': 80, 'scientist': 127, 'winner': 160}\n"
     ]
    }
   ],
   "source": [
    "print(count_vectorizer.vocabulary_)"
   ]
  },
  {
   "cell_type": "markdown",
   "metadata": {
    "id": "oz97JHdm29Bu"
   },
   "source": [
    "We lost:\n",
    "\n",
    "* The meaning of text corpus\n",
    "* The ordering of the words"
   ]
  },
  {
   "cell_type": "code",
   "execution_count": null,
   "metadata": {
    "id": "ZDduobQd29Bv",
    "outputId": "481d8404-7c4f-41d1-e536-99194c8d00f0"
   },
   "outputs": [
    {
     "data": {
      "text/plain": [
       "[array(['marie', 'curie', 'was', 'polish', 'born', 'physicist', 'and',\n",
       "        'chemist', 'one', 'of', 'the', 'most', 'famous', 'scientists',\n",
       "        'her', 'time'], dtype='<U13'),\n",
       " array(['was', 'and', 'the', 'her', 'together', 'with', 'husband',\n",
       "        'pierre', 'she', 'awarded', 'nobel', 'prize', 'in', '1903', 'went',\n",
       "        'on', 'to', 'win', 'another', '1911'], dtype='<U13'),\n",
       " array(['marie', 'was', 'born', 'of', 'the', 'in', 'on', 'sklodowska',\n",
       "        'warsaw', 'november', '1867', 'daughter', 'teacher'], dtype='<U13'),\n",
       " array(['curie', 'and', 'of', 'the', 'pierre', 'she', 'in', 'went', 'to',\n",
       "        '1891', 'paris', 'study', 'physics', 'mathematics', 'at',\n",
       "        'sorbonne', 'where', 'met', 'professor', 'school'], dtype='<U13'),\n",
       " array(['in', 'they', 'were', 'married', '1895'], dtype='<U13'),\n",
       " array(['physicist', 'and', 'of', 'the', 'together', 'on', 'curies',\n",
       "        'worked', 'investigating', 'radioactivity', 'building', 'work',\n",
       "        'german', 'roentgen', 'french', 'becquerel'], dtype='<U13'),\n",
       " array(['of', 'the', 'in', 'curies', 'july', '1898', 'announced',\n",
       "        'discovery', 'new', 'chemical', 'element', 'polonium'],\n",
       "       dtype='<U13'),\n",
       " array(['of', 'the', 'another', 'at', 'they', 'announced', 'discovery',\n",
       "        'end', 'year', 'radium'], dtype='<U13'),\n",
       " array(['the', 'with', 'awarded', 'nobel', 'prize', 'in', '1903',\n",
       "        'physics', 'were', 'curies', 'becquerel', 'along', 'for'],\n",
       "       dtype='<U13'),\n",
       " array(['was', 'and', 'pierre', 'in', 'life', 'cut', 'short', '1906',\n",
       "        'when', 'he', 'knocked', 'down', 'killed', 'by', 'carriage'],\n",
       "       dtype='<U13'),\n",
       " array(['marie', 'and', 'the', 'together', 'to', 'at', 'sorbonne', 'they',\n",
       "        'work', 'took', 'over', 'his', 'teaching', 'post', 'becoming',\n",
       "        'first', 'woman', 'teach', 'devoted', 'herself', 'continuing',\n",
       "        'that', 'had', 'begun'], dtype='<U13'),\n",
       " array(['she', 'nobel', 'prize', 'in', '1911', 'for', 'received', 'second',\n",
       "        'chemistry'], dtype='<U13'),\n",
       " array(['curie', 'was', 'of', 'the', 'in', 'research', 'crucial',\n",
       "        'development', 'rays', 'surgery'], dtype='<U13'),\n",
       " array(['curie', 'one', 'the', 'with', 'she', 'to', 'herself', 'during',\n",
       "        'world', 'war', 'helped', 'equip', 'ambulances', 'ray',\n",
       "        'equipment', 'which', 'drove', 'front', 'lines'], dtype='<U13'),\n",
       " array(['and', 'of', 'the', 'her', 'she', 'in', 'new', 'for',\n",
       "        'international', 'red', 'cross', 'made', 'head', 'its',\n",
       "        'radiological', 'service', 'held', 'training', 'courses',\n",
       "        'medical', 'orderlies', 'doctors', 'techniques'], dtype='<U13'),\n",
       " array(['marie', 'and', 'scientists', 'her', 'she', 'in', 'to', 'work',\n",
       "        'received', 'despite', 'success', 'continued', 'face', 'great',\n",
       "        'opposition', 'from', 'male', 'france', 'never', 'significant',\n",
       "        'financial', 'benefits'], dtype='<U13'),\n",
       " array(['was', 'the', 'her', 'to', 'by', 'late', '1920s', 'health',\n",
       "        'beginning', 'deteriorate'], dtype='<U13'),\n",
       " array(['her', 'she', 'on', 'to', 'july', 'by', 'research', 'from', 'died',\n",
       "        '1934', 'leukaemia', 'caused', 'exposure', 'high', 'energy',\n",
       "        'radiation'], dtype='<U13'),\n",
       " array(['was', 'and', 'of', 'the', 'nobel', 'prize', 'daughter', 'curies',\n",
       "        'for', 'herself', 'chemistry', 'eldest', 'irene', 'scientist',\n",
       "        'winner'], dtype='<U13'),\n",
       " array([], dtype='<U13')]"
      ]
     },
     "execution_count": 26,
     "metadata": {
      "tags": []
     },
     "output_type": "execute_result"
    }
   ],
   "source": [
    "count_vectorizer.inverse_transform(transformed_vector)"
   ]
  },
  {
   "cell_type": "code",
   "execution_count": null,
   "metadata": {
    "id": "rAG46Lo429Bw"
   },
   "outputs": [],
   "source": []
  }
 ],
 "metadata": {
  "colab": {
   "name": "VectorizeTextAsABagOfWords_CountVectorizer.ipynb",
   "provenance": []
  },
  "kernelspec": {
   "display_name": "Python 3",
   "language": "python",
   "name": "python3"
  },
  "language_info": {
   "codemirror_mode": {
    "name": "ipython",
    "version": 3
   },
   "file_extension": ".py",
   "mimetype": "text/x-python",
   "name": "python",
   "nbconvert_exporter": "python",
   "pygments_lexer": "ipython3",
   "version": "3.7.3"
  }
 },
 "nbformat": 4,
 "nbformat_minor": 1
}
